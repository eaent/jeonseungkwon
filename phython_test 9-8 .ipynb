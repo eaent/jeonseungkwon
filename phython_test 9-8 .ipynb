{
  "nbformat": 4,
  "nbformat_minor": 0,
  "metadata": {
    "colab": {
      "provenance": [],
      "collapsed_sections": [],
      "authorship_tag": "ABX9TyOLaEEsYVs9hRbqw2ksgFfy",
      "include_colab_link": true
    },
    "kernelspec": {
      "name": "python3",
      "display_name": "Python 3"
    },
    "language_info": {
      "name": "python"
    }
  },
  "cells": [
    {
      "cell_type": "markdown",
      "metadata": {
        "id": "view-in-github",
        "colab_type": "text"
      },
      "source": [
        "<a href=\"https://colab.research.google.com/github/eaent/jeonseungkwon/blob/master/phython_test%209-8%20.ipynb\" target=\"_parent\"><img src=\"https://colab.research.google.com/assets/colab-badge.svg\" alt=\"Open In Colab\"/></a>"
      ]
    },
    {
      "cell_type": "code",
      "execution_count": null,
      "metadata": {
        "colab": {
          "base_uri": "https://localhost:8080/"
        },
        "id": "vPjmJNAxS1O4",
        "outputId": "eb8c77e6-f721-4327-e1be-855c7f0b3145"
      },
      "outputs": [
        {
          "output_type": "stream",
          "name": "stdout",
          "text": [
            "hello world\n"
          ]
        }
      ],
      "source": [
        "print(\"hello world\")\n"
      ]
    },
    {
      "cell_type": "code",
      "source": [
        "import this\n"
      ],
      "metadata": {
        "colab": {
          "base_uri": "https://localhost:8080/"
        },
        "id": "K2UWdwRMT4o5",
        "outputId": "5156a21a-97bc-461a-ea18-d5697656137e"
      },
      "execution_count": null,
      "outputs": [
        {
          "output_type": "stream",
          "name": "stdout",
          "text": [
            "The Zen of Python, by Tim Peters\n",
            "\n",
            "Beautiful is better than ugly.\n",
            "Explicit is better than implicit.\n",
            "Simple is better than complex.\n",
            "Complex is better than complicated.\n",
            "Flat is better than nested.\n",
            "Sparse is better than dense.\n",
            "Readability counts.\n",
            "Special cases aren't special enough to break the rules.\n",
            "Although practicality beats purity.\n",
            "Errors should never pass silently.\n",
            "Unless explicitly silenced.\n",
            "In the face of ambiguity, refuse the temptation to guess.\n",
            "There should be one-- and preferably only one --obvious way to do it.\n",
            "Although that way may not be obvious at first unless you're Dutch.\n",
            "Now is better than never.\n",
            "Although never is often better than *right* now.\n",
            "If the implementation is hard to explain, it's a bad idea.\n",
            "If the implementation is easy to explain, it may be a good idea.\n",
            "Namespaces are one honking great idea -- let's do more of those!\n"
          ]
        }
      ]
    },
    {
      "cell_type": "code",
      "source": [
        " Name = input(\"Enter your name: \")\n",
        " print(\"Welcome to Python Programming! \" + Name + \"!\")"
      ],
      "metadata": {
        "colab": {
          "base_uri": "https://localhost:8080/"
        },
        "id": "6aF04wjAUTZr",
        "outputId": "e2d65040-e589-4973-947c-fef0212adc0d"
      },
      "execution_count": null,
      "outputs": [
        {
          "output_type": "stream",
          "name": "stdout",
          "text": [
            "Enter your name: ㅇㅇ\n",
            "Welcome to Python Programming! ㅇㅇ!\n"
          ]
        }
      ]
    },
    {
      "cell_type": "code",
      "source": [
        "print(pow(2,100)/(60*60*24*365))"
      ],
      "metadata": {
        "id": "gJrySAhmUli1",
        "colab": {
          "base_uri": "https://localhost:8080/"
        },
        "outputId": "b5fcd59c-3276-41f0-91f5-c381ae340b56"
      },
      "execution_count": null,
      "outputs": [
        {
          "output_type": "stream",
          "name": "stdout",
          "text": [
            "4.0196936841331474e+22\n"
          ]
        }
      ]
    },
    {
      "cell_type": "markdown",
      "source": [
        "Homework #1 게임소프트전공 B777029 전승권\n"
      ],
      "metadata": {
        "id": "TEvHeKx3wDcJ"
      }
    },
    {
      "cell_type": "code",
      "source": [
        "def seq(n):\n",
        "  if  n==1: #Base case(탈출 조건)\n",
        "    return 1\n",
        "  else:\n",
        "    return seq(n-1)+3 #재귀 호출\n"
      ],
      "metadata": {
        "id": "8h8tZ-BEwKB7"
      },
      "execution_count": null,
      "outputs": []
    },
    {
      "cell_type": "code",
      "source": [
        "for i in range(1, 11):\n",
        "  print(i, \":\", seq(i))"
      ],
      "metadata": {
        "colab": {
          "base_uri": "https://localhost:8080/"
        },
        "id": "ybTXcIhz7soU",
        "outputId": "1274ae8b-8ccf-41fe-9466-0acfb2c3b1c2"
      },
      "execution_count": null,
      "outputs": [
        {
          "output_type": "stream",
          "name": "stdout",
          "text": [
            "1 : 1\n",
            "2 : 4\n",
            "3 : 7\n",
            "4 : 10\n",
            "5 : 13\n",
            "6 : 16\n",
            "7 : 19\n",
            "8 : 22\n",
            "9 : 25\n",
            "10 : 28\n"
          ]
        }
      ]
    },
    {
      "cell_type": "code",
      "source": [
        "def fib(n):\n",
        "  if n==1 or n==2: #base case()\n",
        "    return 1\n",
        "  else:   #n>= 3\n",
        "    return fib(n-1)+fib(n-2)"
      ],
      "metadata": {
        "id": "Sa-KC_6y7J0W"
      },
      "execution_count": null,
      "outputs": []
    },
    {
      "cell_type": "code",
      "source": [
        "for i in range(1, 14):\n",
        "  print(i, \":\", fib(i))"
      ],
      "metadata": {
        "colab": {
          "base_uri": "https://localhost:8080/"
        },
        "id": "LtlfXzcg7gft",
        "outputId": "6eef2549-b813-4a98-a2d5-a97aaad6f9c3"
      },
      "execution_count": null,
      "outputs": [
        {
          "output_type": "stream",
          "name": "stdout",
          "text": [
            "1 : 1\n",
            "2 : 1\n",
            "3 : 2\n",
            "4 : 3\n",
            "5 : 5\n",
            "6 : 8\n",
            "7 : 13\n",
            "8 : 21\n",
            "9 : 34\n",
            "10 : 55\n",
            "11 : 89\n",
            "12 : 144\n",
            "13 : 233\n"
          ]
        }
      ]
    }
  ]
}