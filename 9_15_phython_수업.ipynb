{
  "nbformat": 4,
  "nbformat_minor": 0,
  "metadata": {
    "colab": {
      "provenance": [],
      "authorship_tag": "ABX9TyOb21XDIRKaWkRAA11w2sMV",
      "include_colab_link": true
    },
    "kernelspec": {
      "name": "python3",
      "display_name": "Python 3"
    },
    "language_info": {
      "name": "python"
    }
  },
  "cells": [
    {
      "cell_type": "markdown",
      "metadata": {
        "id": "view-in-github",
        "colab_type": "text"
      },
      "source": [
        "<a href=\"https://colab.research.google.com/github/eaent/jeonseungkwon/blob/master/9_15_phython_%EC%88%98%EC%97%85.ipynb\" target=\"_parent\"><img src=\"https://colab.research.google.com/assets/colab-badge.svg\" alt=\"Open In Colab\"/></a>"
      ]
    },
    {
      "cell_type": "code",
      "execution_count": 4,
      "metadata": {
        "id": "68FcNFSDv01z"
      },
      "outputs": [],
      "source": [
        "#Hanoi Tower\n",
        "#n= number of discs (a positive integer)\n",
        "def hanoi(n,src,dest,spare):\n",
        "  if n==1:  # Base case\n",
        "    print(\"Move disc {} from {} to {}.\".format(n,src,dest)) #format 메서드\n",
        "  elif n>1: #n>=2\n",
        "    hanoi(n-1,src,spare,dest)\n",
        "    print(\"Move disc {} from {} to {}.\".format(n,src,dest)) #format 메서드\n",
        "    hanoi(n-1,spare,dest,src)"
      ]
    },
    {
      "cell_type": "code",
      "source": [
        "n=3\n",
        "src=\"a\"\n",
        "dest=\"b\"\n",
        "spare=\"c\"\n",
        "hanoi(n,src,dest,spare)\n",
        "#https://pythontutor.com/render.html#mode=display"
      ],
      "metadata": {
        "colab": {
          "base_uri": "https://localhost:8080/"
        },
        "id": "Cuq5EeME0YlL",
        "outputId": "05eaa248-9ee4-46e5-a666-2f8abe56adfc"
      },
      "execution_count": 9,
      "outputs": [
        {
          "output_type": "stream",
          "name": "stdout",
          "text": [
            "Move disc 1 from a to b.\n",
            "Move disc 2 from a to c.\n",
            "Move disc 1 from b to c.\n",
            "Move disc 3 from a to b.\n",
            "Move disc 1 from c to a.\n",
            "Move disc 2 from c to b.\n",
            "Move disc 1 from a to b.\n"
          ]
        }
      ]
    },
    {
      "cell_type": "markdown",
      "source": [
        "하노이 타워  이동횟수  공식 ((2^n-1) -1) +1 + ((2^n-1)-1) "
      ],
      "metadata": {
        "id": "HligU5Pow93Q"
      }
    },
    {
      "cell_type": "code",
      "source": [
        "#BinarySearch\n",
        "def binarysearch(a, key, low, high):        #key 찾는값 low 배열의 시작점 high 배열의 마침점\n",
        "  if low > high:                            #배열 탐색완료\n",
        "    return -1                               #key 값이 없으면 -1 을 반환\n",
        "  mid = (low + high)//2                      #mid 말그대로 중간값\n",
        "  if(a[mid] < key):                         #찾는값이 중앙값보다 클경우\n",
        "    return binarysearch(a, key, mid+1, high)#서치를돌린다 중앙값의+1 부터 끝까지\n",
        "  elif(a[mid] > key):                       #반대로 중앙값보다 작을경우\n",
        "    return binarysearch(a, key, low, mid-1) #서치를 돌린다 처음부터 중앙값-1 까지\n",
        "  else:                                     #중앙값이랑 찾는값이랑 일치할경우 \n",
        "    return mid                              #중앙값 호출\n",
        "  "
      ],
      "metadata": {
        "id": "-h1TTJej42TZ"
      },
      "execution_count": 43,
      "outputs": []
    },
    {
      "cell_type": "code",
      "source": [
        "a= list() #빈리스트 생성\n",
        "for i in range(20): \n",
        "  if i%2 != 0:  #i가 홀수일경우\n",
        "    a.append(i)\n",
        "print(a)"
      ],
      "metadata": {
        "colab": {
          "base_uri": "https://localhost:8080/"
        },
        "id": "5jXpdf34-OHS",
        "outputId": "f169876d-25de-43c7-dadb-b609f05af915"
      },
      "execution_count": 44,
      "outputs": [
        {
          "output_type": "stream",
          "name": "stdout",
          "text": [
            "[1, 3, 5, 7, 9, 11, 13, 15, 17, 19]\n"
          ]
        }
      ]
    },
    {
      "cell_type": "code",
      "source": [
        "key = 7\n",
        "res = binarysearch(a, key, 0, len(a)-1)\n",
        "if res < 0:\n",
        "  print(\"{} is not found!.\".format(key))\n",
        "else:\n",
        "  print(\"{} is found, its index {}\".format(key,res))\n",
        "# /를 사용해서 오류가 났음 이유는 mid 자체가 float 자료형으로 받아서 정수나누기는 // 로 씀으로 해결한다\n",
        "# 포맷 매서드는 세미콤마 가아닌 그냥 닷 (점) 이용하여 넣는다"
      ],
      "metadata": {
        "colab": {
          "base_uri": "https://localhost:8080/"
        },
        "id": "qLdRBYHX-k7m",
        "outputId": "7bff052f-8ec0-40cc-9c88-e6321beeef33"
      },
      "execution_count": 47,
      "outputs": [
        {
          "output_type": "stream",
          "name": "stdout",
          "text": [
            "7 is found, its index 3\n"
          ]
        }
      ]
    },
    {
      "cell_type": "markdown",
      "source": [
        "제어 반복문 예시 해보기\n"
      ],
      "metadata": {
        "id": "ptlQNfUuFXnC"
      }
    },
    {
      "cell_type": "code",
      "source": [
        "n = int(input(\"Enter a postive Number greater then 3: \"))\n",
        "sum = 0\n",
        "for i in range(3, n+1):\n",
        "  sum += i\n",
        "print(\"Sum from 3 to {} is {}.\".format(n, sum))"
      ],
      "metadata": {
        "colab": {
          "base_uri": "https://localhost:8080/"
        },
        "id": "zZrc98YkFZmm",
        "outputId": "600f6c4f-27f4-49d8-f295-0d1779afe25c"
      },
      "execution_count": 61,
      "outputs": [
        {
          "output_type": "stream",
          "name": "stdout",
          "text": [
            "Enter a postive Number greater then 3: 7\n",
            "Sum from 3 to 7 is 25.\n"
          ]
        }
      ]
    },
    {
      "cell_type": "code",
      "source": [
        "n = int(input(\"Enter a postive Number greater then 3: \"))\n",
        "sum = 0\n",
        "i = 3\n",
        "while i <= n:\n",
        "  sum += i\n",
        "  i = i+1\n",
        "print(\"Sum from 3 to {} is {}.\".format(n, sum))"
      ],
      "metadata": {
        "colab": {
          "base_uri": "https://localhost:8080/"
        },
        "id": "mqmYfTCVF8Rn",
        "outputId": "eecf783e-681b-46f9-8c4b-b5412fe12a69"
      },
      "execution_count": 63,
      "outputs": [
        {
          "output_type": "stream",
          "name": "stdout",
          "text": [
            "Enter a postive Number greater then 3: 7\n",
            "Sum from 3 to 7 is 25.\n"
          ]
        }
      ]
    }
  ]
}