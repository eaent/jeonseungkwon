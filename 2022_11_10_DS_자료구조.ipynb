{
  "nbformat": 4,
  "nbformat_minor": 0,
  "metadata": {
    "colab": {
      "provenance": [],
      "collapsed_sections": [],
      "authorship_tag": "ABX9TyOcRHtltc9BOIqFPn8lzFQ9",
      "include_colab_link": true
    },
    "kernelspec": {
      "name": "python3",
      "display_name": "Python 3"
    },
    "language_info": {
      "name": "python"
    }
  },
  "cells": [
    {
      "cell_type": "markdown",
      "metadata": {
        "id": "view-in-github",
        "colab_type": "text"
      },
      "source": [
        "<a href=\"https://colab.research.google.com/github/eaent/jeonseungkwon/blob/master/2022_11_10_DS_%EC%9E%90%EB%A3%8C%EA%B5%AC%EC%A1%B0.ipynb\" target=\"_parent\"><img src=\"https://colab.research.google.com/assets/colab-badge.svg\" alt=\"Open In Colab\"/></a>"
      ]
    },
    {
      "cell_type": "code",
      "execution_count": 1,
      "metadata": {
        "colab": {
          "base_uri": "https://localhost:8080/"
        },
        "id": "VYW7R_xiPu86",
        "outputId": "4e83604b-4197-4ea9-bb38-cfdd7946681b"
      },
      "outputs": [
        {
          "output_type": "stream",
          "name": "stdout",
          "text": [
            "[1, 2, 3, 4, 5, 6, 7, 8, 9, 10]\n"
          ]
        }
      ],
      "source": [
        "list1 = [x for x in range(1,11)]\n",
        "print(list1)"
      ]
    },
    {
      "cell_type": "code",
      "source": [
        "import random\n",
        "print(random.randint(1,10))"
      ],
      "metadata": {
        "colab": {
          "base_uri": "https://localhost:8080/"
        },
        "id": "Lc6kiHGMQquq",
        "outputId": "83971abd-d699-41dc-937e-2af620e3dfb2"
      },
      "execution_count": 10,
      "outputs": [
        {
          "output_type": "stream",
          "name": "stdout",
          "text": [
            "1\n"
          ]
        }
      ]
    },
    {
      "cell_type": "code",
      "source": [
        "def bubble_sort(A, n):              \n",
        "  for i in range(n-1):                        #0 ~ n-2 까지\n",
        "    for j in range(n-1-i):                    #0 ~ n-1 까지\n",
        "      if A[j] > A[j+1]:\n",
        "        A[j], A[j+1] = A[j+1], A[j]"
      ],
      "metadata": {
        "id": "UtI6B8O5XNvO"
      },
      "execution_count": 22,
      "outputs": []
    },
    {
      "cell_type": "code",
      "source": [
        "def selection_sort(A, n):\n",
        "\n",
        "  for i in range(n-1):\n",
        "    minIndex = i                        #0 ~ n-2 까지\n",
        "    for j in range(i+1,n):                    #0 ~ n-1 까지\n",
        "      if A[j] < A[minIndex]:\n",
        "        minIndex = j\n",
        "    if minIndex != i:\n",
        "      A[minIndex],A[i] = A[i],A[minIndex]"
      ],
      "metadata": {
        "id": "yaA4F_eQZhV5"
      },
      "execution_count": 58,
      "outputs": []
    },
    {
      "cell_type": "code",
      "source": [
        "def insertion_sort(A, n):\n",
        "\n",
        "  for i in range(1,n):\n",
        "    key = A[i]\n",
        "    j = i-1\n",
        "    while j >= 0 and A[j] > key :\n",
        "      A[j+1] = A[j] \n",
        "      j = j-1\n",
        "    A[j+1] = key  "
      ],
      "metadata": {
        "id": "XDUdnGH7cfT-"
      },
      "execution_count": 56,
      "outputs": []
    },
    {
      "cell_type": "code",
      "source": [
        "def partition (A, low:int, high:int) -> int:\n",
        "  pivot = A[high] \n",
        "  i = low - 1 \n",
        "  for j in range(low,high):\n",
        "    if A[j] < pivot:\n",
        "      i = i + 1\n",
        "      A[i], A[j] = A[j],A[i] \n",
        "  A[i+1], A[high] = A[high],A[i+1] \n",
        "  return i + 1 \n",
        "\n",
        "def quick_sort(A, left:int, right:int):\n",
        "\n",
        "  if left < right :\n",
        "    q = partition(A, left, right)\n",
        "    quick_sort(A, left, q-1)\n",
        "    quick_sort(A, q+1, right)"
      ],
      "metadata": {
        "id": "hgzYF6gSdjM7"
      },
      "execution_count": 2,
      "outputs": []
    },
    {
      "cell_type": "code",
      "source": [
        "import random\n",
        "N =10\n",
        "MAXINT = 100\n",
        "st1 = [random.randint(1,MAXINT) for i in range(N)]\n",
        "print(st1)"
      ],
      "metadata": {
        "colab": {
          "base_uri": "https://localhost:8080/"
        },
        "id": "OJc2E3JoRBBN",
        "outputId": "b457b5ff-b147-49da-d703-d0808c49a31e"
      },
      "execution_count": 20,
      "outputs": [
        {
          "output_type": "stream",
          "name": "stdout",
          "text": [
            "[49, 79, 19, 12, 57, 68, 86, 49, 76, 67]\n"
          ]
        }
      ]
    },
    {
      "cell_type": "code",
      "source": [
        "#정렬 알고리즘 테스트\n",
        "import time\n",
        "import random\n",
        "\n",
        "N =100\n",
        "MAXINT = 100\n",
        "st2 = [random.randint(1,MAXINT) for i in range(N)]\n",
        "print(st2)\n",
        "start_time = time.time()\n",
        "bubble_sort(st2,len(st2))\n",
        "end_time = time.time()\n",
        "print(st2)\n",
        "\n",
        "print(f\"버블정령 이 걸린 시간 : {end_time - start_time}\")"
      ],
      "metadata": {
        "colab": {
          "base_uri": "https://localhost:8080/"
        },
        "id": "ItraYo-rX9yo",
        "outputId": "d03a6ebe-2be3-491e-ce17-50f1574b7b23"
      },
      "execution_count": 63,
      "outputs": [
        {
          "output_type": "stream",
          "name": "stdout",
          "text": [
            "[54, 48, 17, 18, 68, 5, 55, 30, 22, 18, 43, 62, 39, 99, 31, 92, 98, 44, 62, 52, 72, 34, 59, 35, 38, 27, 57, 1, 80, 55, 86, 84, 61, 33, 95, 15, 73, 48, 67, 61, 85, 49, 95, 76, 54, 13, 82, 36, 3, 68, 88, 43, 16, 50, 75, 37, 87, 42, 39, 79, 65, 12, 4, 37, 10, 47, 10, 6, 58, 58, 25, 88, 64, 63, 74, 65, 49, 82, 32, 49, 38, 92, 65, 36, 15, 65, 35, 25, 14, 44, 32, 32, 76, 90, 88, 89, 4, 7, 18, 24]\n",
            "[1, 3, 4, 4, 5, 6, 7, 10, 10, 12, 13, 14, 15, 15, 16, 17, 18, 18, 18, 22, 24, 25, 25, 27, 30, 31, 32, 32, 32, 33, 34, 35, 35, 36, 36, 37, 37, 38, 38, 39, 39, 42, 43, 43, 44, 44, 47, 48, 48, 49, 49, 49, 50, 52, 54, 54, 55, 55, 57, 58, 58, 59, 61, 61, 62, 62, 63, 64, 65, 65, 65, 65, 67, 68, 68, 72, 73, 74, 75, 76, 76, 79, 80, 82, 82, 84, 85, 86, 87, 88, 88, 88, 89, 90, 92, 92, 95, 95, 98, 99]\n",
            "버블정령 이 걸린 시간 : 0.0014815330505371094\n"
          ]
        }
      ]
    },
    {
      "cell_type": "code",
      "source": [
        "#정렬 알고리즘 테스트\n",
        "import time\n",
        "import random\n",
        "\n",
        "N =10\n",
        "MAXINT = 100\n",
        "st2 = [random.randint(1,MAXINT) for i in range(N)]\n",
        "print(st2)\n",
        "start_time = time.time()\n",
        "selection_sort(st2,len(st2))\n",
        "end_time = time.time()\n",
        "print(st2)\n",
        "\n",
        "print(f\"버블정령 이 걸린 시간 : {end_time - start_time}\")"
      ],
      "metadata": {
        "colab": {
          "base_uri": "https://localhost:8080/"
        },
        "id": "8oCRIl7Ja0sz",
        "outputId": "9c20e891-9bb7-4f65-b4ad-c7a054b0e2ed"
      },
      "execution_count": 55,
      "outputs": [
        {
          "output_type": "stream",
          "name": "stdout",
          "text": [
            "[3, 78, 8, 76, 60, 48, 71, 48, 34, 83]\n",
            "[3, 8, 34, 48, 48, 60, 71, 76, 78, 83]\n",
            "버블정령 이 걸린 시간 : 0.0016338825225830078\n"
          ]
        }
      ]
    },
    {
      "cell_type": "code",
      "source": [
        "#정렬 알고리즘 테스트\n",
        "import time\n",
        "import random\n",
        "\n",
        "N =10\n",
        "MAXINT = 100\n",
        "st2 = [random.randint(1,MAXINT) for i in range(N)]\n",
        "print(st2)\n",
        "start_time = time.time()\n",
        "insertion_sort(st2,len(st2))\n",
        "end_time = time.time()\n",
        "print(st2)\n",
        "\n",
        "print(f\"버블정령 이 걸린 시간 : {end_time - start_time}\")"
      ],
      "metadata": {
        "colab": {
          "base_uri": "https://localhost:8080/"
        },
        "id": "sxR_xUz_dVKh",
        "outputId": "2e91fc0f-70c6-4858-bc02-c8bc7b26c9c2"
      },
      "execution_count": 57,
      "outputs": [
        {
          "output_type": "stream",
          "name": "stdout",
          "text": [
            "[31, 48, 99, 83, 54, 48, 51, 61, 73, 20]\n",
            "[20, 31, 48, 48, 51, 54, 61, 73, 83, 99]\n",
            "버블정령 이 걸린 시간 : 0.00012302398681640625\n"
          ]
        }
      ]
    },
    {
      "cell_type": "code",
      "source": [
        "#정렬 알고리즘 테스트\n",
        "import time\n",
        "import random\n",
        "\n",
        "N =10\n",
        "MAXINT = 100\n",
        "st3 = [random.randint(1,MAXINT) for i in range(N)]\n",
        "print(st3)\n",
        "start_time = time.time()\n",
        "quick_sort(st3,0,len(st3)-1)\n",
        "end_time = time.time()\n",
        "print(st3)\n",
        "\n",
        "print(f\"버블정령 이 걸린 시간 : {end_time - start_time}\")"
      ],
      "metadata": {
        "colab": {
          "base_uri": "https://localhost:8080/"
        },
        "id": "pWENj-SQey3w",
        "outputId": "38b8a5fa-de93-4124-9d11-8d417455b4df"
      },
      "execution_count": 3,
      "outputs": [
        {
          "output_type": "stream",
          "name": "stdout",
          "text": [
            "[73, 8, 87, 65, 40, 2, 30, 90, 7, 34]\n",
            "[2, 7, 8, 30, 34, 40, 65, 73, 87, 90]\n",
            "버블정령 이 걸린 시간 : 0.000118255615234375\n"
          ]
        }
      ]
    }
  ]
}