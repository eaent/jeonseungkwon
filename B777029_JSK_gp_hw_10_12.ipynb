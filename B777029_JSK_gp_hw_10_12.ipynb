{
  "nbformat": 4,
  "nbformat_minor": 0,
  "metadata": {
    "colab": {
      "provenance": [],
      "collapsed_sections": [],
      "authorship_tag": "ABX9TyM+nWvvQFmGReARD/illsKt",
      "include_colab_link": true
    },
    "kernelspec": {
      "name": "python3",
      "display_name": "Python 3"
    },
    "language_info": {
      "name": "python"
    }
  },
  "cells": [
    {
      "cell_type": "markdown",
      "metadata": {
        "id": "view-in-github",
        "colab_type": "text"
      },
      "source": [
        "<a href=\"https://colab.research.google.com/github/eaent/jeonseungkwon/blob/master/B777029_JSK_gp_hw_10_12.ipynb\" target=\"_parent\"><img src=\"https://colab.research.google.com/assets/colab-badge.svg\" alt=\"Open In Colab\"/></a>"
      ]
    },
    {
      "cell_type": "markdown",
      "source": [
        "1번 **문제**"
      ],
      "metadata": {
        "id": "m7in6hMmqJ60"
      }
    },
    {
      "cell_type": "code",
      "execution_count": null,
      "metadata": {
        "colab": {
          "base_uri": "https://localhost:8080/"
        },
        "id": "wOuCNKNelBkD",
        "outputId": "5fdf6553-e16e-49da-dd6a-3844daf8997a"
      },
      "outputs": [
        {
          "output_type": "stream",
          "name": "stdout",
          "text": [
            "Audi\n",
            "BMW\n",
            "GMC\n",
            "Hyundai\n",
            "Volkswagen\n"
          ]
        }
      ],
      "source": [
        "cars = ['audi','bmw','gmc','hyundai','volkswagen']\n",
        "\n",
        "for car in cars:\n",
        "  if len(car) == 3:\n",
        "    print(car.upper())\n",
        "  else:\n",
        "    print(car.capitalize())"
      ]
    },
    {
      "cell_type": "markdown",
      "source": [
        "2번 문제"
      ],
      "metadata": {
        "id": "Vm2_DrbMz6EK"
      }
    },
    {
      "cell_type": "code",
      "source": [
        "while True:\n",
        "  print(\"What is the weather today? (1: Sunny, 2: Rainy, 3: Cloudy, 4: Snowy\")\n",
        "  choice = input()\n",
        "  if choice == '1':\n",
        "    print(\"오늘은 날씨가 좋으니까 짜장면!\")\n",
        "  elif choice == '2':\n",
        "    print(\"오늘은 비가 오니까 짬뽕!\")\n",
        "  elif choice == '3':\n",
        "    print(\"오늘은 흐리니까 볶음밥!\")\n",
        "  elif choice == '4':\n",
        "    print(\"오늘은 눈이 오니까 탕수육!\")\n",
        "  else:\n",
        "    print(\"Bye Bye~\")\n",
        "    break"
      ],
      "metadata": {
        "colab": {
          "base_uri": "https://localhost:8080/"
        },
        "id": "i-qLheRLtA7E",
        "outputId": "4b5a1079-ee25-4a04-e554-3b194e27cf6b"
      },
      "execution_count": null,
      "outputs": [
        {
          "output_type": "stream",
          "name": "stdout",
          "text": [
            "What is the weather today? (1: Sunny, 2: Rainy, 3: Cloudy, 4: Snowy\n",
            "5\n",
            "Bye Bye~\n"
          ]
        }
      ]
    },
    {
      "cell_type": "markdown",
      "source": [
        "3번 문제"
      ],
      "metadata": {
        "id": "0hZ1piHJ23t3"
      }
    },
    {
      "cell_type": "code",
      "source": [
        "numbers = [i for i in range(1,11)]\n",
        "for number in numbers:\n",
        "  if number == 1:\n",
        "    print(\"1st\",end = \" \")\n",
        "  elif number == 2:\n",
        "    print(\"2nd\",end = \" \")\n",
        "  elif number == 3:\n",
        "    print(\"3rd\",end = \" \")\n",
        "  else:\n",
        "    print(f\"{number}th\",end = \" \")"
      ],
      "metadata": {
        "colab": {
          "base_uri": "https://localhost:8080/"
        },
        "id": "9sQa1A4u25Sq",
        "outputId": "dfafbcc5-e682-4aea-caba-bf20d2ec863c"
      },
      "execution_count": null,
      "outputs": [
        {
          "output_type": "stream",
          "name": "stdout",
          "text": [
            "1st 2nd 3rd 4th 5th 6th 7th 8th 9th 10th "
          ]
        }
      ]
    },
    {
      "cell_type": "markdown",
      "source": [
        "4번 문제"
      ],
      "metadata": {
        "id": "miqTQddO7jAV"
      }
    },
    {
      "cell_type": "code",
      "source": [
        "for i in range(1,10):\n",
        "  for j in range(1,10):\n",
        "    print(\"{} * {} = {}\".format(i,j,i*j))\n",
        "    if j == 9:\n",
        "      print(\"\")"
      ],
      "metadata": {
        "colab": {
          "base_uri": "https://localhost:8080/"
        },
        "id": "3382lyCq7iZw",
        "outputId": "26c28110-0cd1-428e-89fb-f93ad6e9a44b"
      },
      "execution_count": null,
      "outputs": [
        {
          "output_type": "stream",
          "name": "stdout",
          "text": [
            "1 * 1 = 1\n",
            "1 * 2 = 2\n",
            "1 * 3 = 3\n",
            "1 * 4 = 4\n",
            "1 * 5 = 5\n",
            "1 * 6 = 6\n",
            "1 * 7 = 7\n",
            "1 * 8 = 8\n",
            "1 * 9 = 9\n",
            "\n",
            "2 * 1 = 2\n",
            "2 * 2 = 4\n",
            "2 * 3 = 6\n",
            "2 * 4 = 8\n",
            "2 * 5 = 10\n",
            "2 * 6 = 12\n",
            "2 * 7 = 14\n",
            "2 * 8 = 16\n",
            "2 * 9 = 18\n",
            "\n",
            "3 * 1 = 3\n",
            "3 * 2 = 6\n",
            "3 * 3 = 9\n",
            "3 * 4 = 12\n",
            "3 * 5 = 15\n",
            "3 * 6 = 18\n",
            "3 * 7 = 21\n",
            "3 * 8 = 24\n",
            "3 * 9 = 27\n",
            "\n",
            "4 * 1 = 4\n",
            "4 * 2 = 8\n",
            "4 * 3 = 12\n",
            "4 * 4 = 16\n",
            "4 * 5 = 20\n",
            "4 * 6 = 24\n",
            "4 * 7 = 28\n",
            "4 * 8 = 32\n",
            "4 * 9 = 36\n",
            "\n",
            "5 * 1 = 5\n",
            "5 * 2 = 10\n",
            "5 * 3 = 15\n",
            "5 * 4 = 20\n",
            "5 * 5 = 25\n",
            "5 * 6 = 30\n",
            "5 * 7 = 35\n",
            "5 * 8 = 40\n",
            "5 * 9 = 45\n",
            "\n",
            "6 * 1 = 6\n",
            "6 * 2 = 12\n",
            "6 * 3 = 18\n",
            "6 * 4 = 24\n",
            "6 * 5 = 30\n",
            "6 * 6 = 36\n",
            "6 * 7 = 42\n",
            "6 * 8 = 48\n",
            "6 * 9 = 54\n",
            "\n",
            "7 * 1 = 7\n",
            "7 * 2 = 14\n",
            "7 * 3 = 21\n",
            "7 * 4 = 28\n",
            "7 * 5 = 35\n",
            "7 * 6 = 42\n",
            "7 * 7 = 49\n",
            "7 * 8 = 56\n",
            "7 * 9 = 63\n",
            "\n",
            "8 * 1 = 8\n",
            "8 * 2 = 16\n",
            "8 * 3 = 24\n",
            "8 * 4 = 32\n",
            "8 * 5 = 40\n",
            "8 * 6 = 48\n",
            "8 * 7 = 56\n",
            "8 * 8 = 64\n",
            "8 * 9 = 72\n",
            "\n",
            "9 * 1 = 9\n",
            "9 * 2 = 18\n",
            "9 * 3 = 27\n",
            "9 * 4 = 36\n",
            "9 * 5 = 45\n",
            "9 * 6 = 54\n",
            "9 * 7 = 63\n",
            "9 * 8 = 72\n",
            "9 * 9 = 81\n",
            "\n"
          ]
        }
      ]
    },
    {
      "cell_type": "markdown",
      "source": [
        "5-1"
      ],
      "metadata": {
        "id": "8yMPI4bw8UOj"
      }
    },
    {
      "cell_type": "code",
      "source": [
        "months =['January','February','March','April','May','June',\n",
        "         'July','August','September','October','November','December']\n",
        "\n",
        "month_s =[i for i in range(len(months)) if ('r' or 'R') in months[i]]\n",
        "for i in month_s:\n",
        "    print(months[i],end = \" \")"
      ],
      "metadata": {
        "colab": {
          "base_uri": "https://localhost:8080/"
        },
        "id": "iafcFNyZ8Wdh",
        "outputId": "d13dd95f-0a98-415a-ad62-208c66654bce"
      },
      "execution_count": null,
      "outputs": [
        {
          "output_type": "stream",
          "name": "stdout",
          "text": [
            "January February March April September October November December "
          ]
        }
      ]
    },
    {
      "cell_type": "markdown",
      "source": [
        "5-2"
      ],
      "metadata": {
        "id": "N9mVf1bwFw06"
      }
    },
    {
      "cell_type": "code",
      "source": [
        "months_abb = {}\n",
        "print(months_abb)\n",
        "for month in months:  \n",
        "  months_abb[month[:3]] = (month)\n",
        "print(months_abb)\n",
        "print(months_abb.get('Apr')) \n",
        "print(months_abb.get('Dec')) "
      ],
      "metadata": {
        "id": "MiJ2d-GcFxsK",
        "colab": {
          "base_uri": "https://localhost:8080/"
        },
        "outputId": "a2bb79dd-dbd6-4194-d9ab-1772107c8846"
      },
      "execution_count": null,
      "outputs": [
        {
          "output_type": "stream",
          "name": "stdout",
          "text": [
            "{}\n",
            "{'Jan': 'January', 'Feb': 'February', 'Mar': 'March', 'Apr': 'April', 'May': 'May', 'Jun': 'June', 'Jul': 'July', 'Aug': 'August', 'Sep': 'September', 'Oct': 'October', 'Nov': 'November', 'Dec': 'December'}\n",
            "April\n",
            "December\n"
          ]
        }
      ]
    },
    {
      "cell_type": "markdown",
      "source": [
        "5-3"
      ],
      "metadata": {
        "id": "KIddo8vcW2x2"
      }
    },
    {
      "cell_type": "code",
      "source": [
        "months_num = {}\n",
        "print(months_num)\n",
        "a = 1\n",
        "for month in months:\n",
        "    months_num[a] = (month[:3])\n",
        "    a += 1\n",
        "print(months_num)\n",
        "print(months_num.get(4))\n",
        "print(months_num.get(12))\n",
        "\n",
        "#for i in range(1,10):\n",
        "#for j in range(1,10):"
      ],
      "metadata": {
        "colab": {
          "base_uri": "https://localhost:8080/"
        },
        "id": "G4TwSEoKW4XW",
        "outputId": "4d5f7887-2a5b-40c4-bdc2-d2c182a3fe41"
      },
      "execution_count": null,
      "outputs": [
        {
          "output_type": "stream",
          "name": "stdout",
          "text": [
            "{}\n",
            "{1: 'Jan', 2: 'Feb', 3: 'Mar', 4: 'Apr', 5: 'May', 6: 'Jun', 7: 'Jul', 8: 'Aug', 9: 'Sep', 10: 'Oct', 11: 'Nov', 12: 'Dec'}\n",
            "Apr\n",
            "Dec\n"
          ]
        }
      ]
    }
  ]
}