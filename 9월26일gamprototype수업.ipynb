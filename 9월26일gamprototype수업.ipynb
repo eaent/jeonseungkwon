{
  "nbformat": 4,
  "nbformat_minor": 0,
  "metadata": {
    "colab": {
      "provenance": [],
      "authorship_tag": "ABX9TyP3hJSXJie+6gQIJhnejmMG",
      "include_colab_link": true
    },
    "kernelspec": {
      "name": "python3",
      "display_name": "Python 3"
    },
    "language_info": {
      "name": "python"
    }
  },
  "cells": [
    {
      "cell_type": "markdown",
      "metadata": {
        "id": "view-in-github",
        "colab_type": "text"
      },
      "source": [
        "<a href=\"https://colab.research.google.com/github/eaent/jeonseungkwon/blob/master/9%EC%9B%9426%EC%9D%BCgamprototype%EC%88%98%EC%97%85.ipynb\" target=\"_parent\"><img src=\"https://colab.research.google.com/assets/colab-badge.svg\" alt=\"Open In Colab\"/></a>"
      ]
    },
    {
      "cell_type": "code",
      "execution_count": 13,
      "metadata": {
        "colab": {
          "base_uri": "https://localhost:8080/"
        },
        "id": "JiMXdX2rYiHo",
        "outputId": "d2255ee0-d1a7-43e6-b635-c2199e68881d"
      },
      "outputs": [
        {
          "output_type": "stream",
          "name": "stdout",
          "text": [
            "[5, 3, 1, -1, -3, -5, -7, -9]\n"
          ]
        }
      ],
      "source": [
        "a = list()\n",
        "\n",
        "for i in range(8):\n",
        "  i= 5+(i*-2)\n",
        "  a.append(i)\n",
        "print(a)"
      ]
    },
    {
      "cell_type": "code",
      "source": [
        "a =[[1,2,3],[4,5,6,7],[8,9]]\n",
        "for i in range(len(a)):\n",
        "  for j in range(len(a[i])):\n",
        "    print(a[i][j],end=\" \")\n",
        "    "
      ],
      "metadata": {
        "colab": {
          "base_uri": "https://localhost:8080/"
        },
        "id": "tZgM4WKWasKL",
        "outputId": "bb9eacaa-8fc3-4836-83ba-7aeb8f0e9482"
      },
      "execution_count": 42,
      "outputs": [
        {
          "output_type": "stream",
          "name": "stdout",
          "text": [
            "1 2 3 4 5 6 7 8 9 "
          ]
        }
      ]
    },
    {
      "cell_type": "code",
      "source": [
        "numbers=[1,2,3,4,5,6,7,8,9]\n",
        "output=[[],[],[]]\n",
        "\n",
        "for number in numbers:\n",
        "    output[(number-1)%3].append(number)   #0 1 2 에 골고루 넣어야함 1,4,7  2,5,8  3,6,9   0=0 1=1 2=2 3=0 4=1 5=2 6=0 7=1 8=2\n",
        "\n",
        "print(output)"
      ],
      "metadata": {
        "colab": {
          "base_uri": "https://localhost:8080/"
        },
        "id": "x7B4JjqDeITW",
        "outputId": "9d691687-a614-44e9-88ee-3e66e33f724c"
      },
      "execution_count": 74,
      "outputs": [
        {
          "output_type": "stream",
          "name": "stdout",
          "text": [
            "[[1, 4, 7], [2, 5, 8], [3, 6, 9]]\n"
          ]
        }
      ]
    },
    {
      "cell_type": "code",
      "source": [
        "my_pizzas = ['Shrimp','Steak','Pineapple']\n",
        "for i in range(len(my_pizzas)):\n",
        "  print(my_pizzas[i])\n",
        "for i in range(len(my_pizzas)):\n",
        "  print(\"I like {} pizza !\".format(my_pizzas[i]))\n",
        "print(\"I really love all kind of pizza!\")"
      ],
      "metadata": {
        "colab": {
          "base_uri": "https://localhost:8080/"
        },
        "id": "nr2KDUvoir1e",
        "outputId": "f3915361-ba25-46ec-ad55-c5fa2c0ab235"
      },
      "execution_count": 63,
      "outputs": [
        {
          "output_type": "stream",
          "name": "stdout",
          "text": [
            "Shrimp\n",
            "Steak\n",
            "Pineapple\n",
            "I like Shrimp pizza !\n",
            "I like Steak pizza !\n",
            "I like Pineapple pizza !\n",
            "I really love all kind of pizza!\n"
          ]
        }
      ]
    },
    {
      "cell_type": "code",
      "source": [
        "a= list()\n",
        "for i in range(1000001):\n",
        "  a.append(i)\n",
        "a.remove(0)\n",
        "print(\"min: {},max: {},sum: {}\".format(min(a),max(a),sum(a)))\n",
        "b = list(range(1,20,2))\n",
        "print(b)\n",
        "c = list(range(3,31,3))\n",
        "for i in range(len(c)):\n",
        "  print(c[i],end=\" \")\n",
        "print(\"\\n\")\n",
        "sqares=[value**3 for value in range(1,11)]\n",
        "print(sqares)"
      ],
      "metadata": {
        "colab": {
          "base_uri": "https://localhost:8080/"
        },
        "id": "Oxik7LIgm7mA",
        "outputId": "3ccd7480-c6bd-4d40-8cdf-a6e391ab69ef"
      },
      "execution_count": 92,
      "outputs": [
        {
          "output_type": "stream",
          "name": "stdout",
          "text": [
            "min: 1,max: 1000000,sum: 500000500000\n",
            "[1, 3, 5, 7, 9, 11, 13, 15, 17, 19]\n",
            "3 6 9 12 15 18 21 24 27 30 \n",
            "\n",
            "[1, 8, 27, 64, 125, 216, 343, 512, 729, 1000]\n"
          ]
        }
      ]
    }
  ]
}