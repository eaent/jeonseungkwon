{
  "nbformat": 4,
  "nbformat_minor": 0,
  "metadata": {
    "colab": {
      "provenance": [],
      "collapsed_sections": [],
      "authorship_tag": "ABX9TyPwEGuB1TD/40GoXkq2Ijym",
      "include_colab_link": true
    },
    "kernelspec": {
      "name": "python3",
      "display_name": "Python 3"
    },
    "language_info": {
      "name": "python"
    }
  },
  "cells": [
    {
      "cell_type": "markdown",
      "metadata": {
        "id": "view-in-github",
        "colab_type": "text"
      },
      "source": [
        "<a href=\"https://colab.research.google.com/github/eaent/jeonseungkwon/blob/master/B777029_%EC%A0%84%EC%8A%B9%EA%B6%8C_python_homework1.ipynb\" target=\"_parent\"><img src=\"https://colab.research.google.com/assets/colab-badge.svg\" alt=\"Open In Colab\"/></a>"
      ]
    },
    {
      "cell_type": "markdown",
      "source": [
        "B777029  전승권 자료구조 숙제 1\n"
      ],
      "metadata": {
        "id": "QiIMn91GLTh3"
      }
    },
    {
      "cell_type": "code",
      "source": [
        "def seq(n):\n",
        "  if  n==1: #Base case(탈출 조건)\n",
        "    return 0\n",
        "  else:\n",
        "    return 5*seq(n-1)+3 #재귀 호출\n"
      ],
      "metadata": {
        "id": "nXKYihVbLdTU"
      },
      "execution_count": 13,
      "outputs": []
    },
    {
      "cell_type": "code",
      "source": [
        "for i in range(1, 10):\n",
        "  print(i, \":\", seq(i))"
      ],
      "metadata": {
        "colab": {
          "base_uri": "https://localhost:8080/"
        },
        "id": "JGw2aXQAp_xh",
        "outputId": "0c66ae60-24f5-4759-cac4-a8b8e30e5abc"
      },
      "execution_count": 14,
      "outputs": [
        {
          "output_type": "stream",
          "name": "stdout",
          "text": [
            "1 : 0\n",
            "2 : 3\n",
            "3 : 18\n",
            "4 : 93\n",
            "5 : 468\n",
            "6 : 2343\n",
            "7 : 11718\n",
            "8 : 58593\n",
            "9 : 292968\n"
          ]
        }
      ]
    },
    {
      "cell_type": "markdown",
      "source": [
        "숙제 2"
      ],
      "metadata": {
        "id": "u02T3ZuVs4bx"
      }
    },
    {
      "cell_type": "code",
      "source": [
        "def fib(n): #재귀적 방법\n",
        "  if n==1 or n==2: #base case()\n",
        "    return 1\n",
        "  else:   #n>= 3\n",
        "    return fib(n-1)+fib(n-2)"
      ],
      "metadata": {
        "id": "BrWPu0UStExk"
      },
      "execution_count": 48,
      "outputs": []
    },
    {
      "cell_type": "code",
      "source": [
        "for i in range(1, 41):\n",
        "  print(i, \":\", fib(i)) #1분22초 걸렸음"
      ],
      "metadata": {
        "colab": {
          "base_uri": "https://localhost:8080/"
        },
        "id": "q1rbzieuOoTL",
        "outputId": "ddf3a0ed-4c0d-40a4-fc54-c1e4b71f5d9d"
      },
      "execution_count": 49,
      "outputs": [
        {
          "output_type": "stream",
          "name": "stdout",
          "text": [
            "1 : 1\n",
            "2 : 1\n",
            "3 : 2\n",
            "4 : 3\n",
            "5 : 5\n",
            "6 : 8\n",
            "7 : 13\n",
            "8 : 21\n",
            "9 : 34\n",
            "10 : 55\n",
            "11 : 89\n",
            "12 : 144\n",
            "13 : 233\n",
            "14 : 377\n",
            "15 : 610\n",
            "16 : 987\n",
            "17 : 1597\n",
            "18 : 2584\n",
            "19 : 4181\n",
            "20 : 6765\n",
            "21 : 10946\n",
            "22 : 17711\n",
            "23 : 28657\n",
            "24 : 46368\n",
            "25 : 75025\n",
            "26 : 121393\n",
            "27 : 196418\n",
            "28 : 317811\n",
            "29 : 514229\n",
            "30 : 832040\n",
            "31 : 1346269\n",
            "32 : 2178309\n",
            "33 : 3524578\n",
            "34 : 5702887\n",
            "35 : 9227465\n",
            "36 : 14930352\n",
            "37 : 24157817\n",
            "38 : 39088169\n",
            "39 : 63245986\n",
            "40 : 102334155\n"
          ]
        }
      ]
    },
    {
      "cell_type": "code",
      "source": [
        "def fib(n): #반복적방법\n",
        " list = [] #리스트 생성\n",
        " for i in range(0, n): #단순 반복문\n",
        "  if i < 2:\n",
        "   list.append(1) #리스트 맨뒤에 추가\n",
        "  else: #n>=3\n",
        "   list.append(list[i-1]+ list[i-2])\n",
        " return list[n-1]\n",
        "\n",
        " #https://developer-ankiwoong.tistory.com/463 참고  수정한부분은 아래 입력후 출력을 보여주는부분만 저번시간에 배웠던 출력 함수 유지\n",
        " #리스트는 아직 배우질않아서 대략 이해했습니다."
      ],
      "metadata": {
        "id": "9VhNgT1Rlgp3"
      },
      "execution_count": 50,
      "outputs": []
    },
    {
      "cell_type": "code",
      "source": [
        "for i in range(1, 41):\n",
        "  print(i, \":\", fib(i)) # 0초"
      ],
      "metadata": {
        "colab": {
          "base_uri": "https://localhost:8080/"
        },
        "id": "OLxlmtcNmdQF",
        "outputId": "31b53ccd-9687-494a-86ec-9430451c5b63"
      },
      "execution_count": 51,
      "outputs": [
        {
          "output_type": "stream",
          "name": "stdout",
          "text": [
            "1 : 1\n",
            "2 : 1\n",
            "3 : 2\n",
            "4 : 3\n",
            "5 : 5\n",
            "6 : 8\n",
            "7 : 13\n",
            "8 : 21\n",
            "9 : 34\n",
            "10 : 55\n",
            "11 : 89\n",
            "12 : 144\n",
            "13 : 233\n",
            "14 : 377\n",
            "15 : 610\n",
            "16 : 987\n",
            "17 : 1597\n",
            "18 : 2584\n",
            "19 : 4181\n",
            "20 : 6765\n",
            "21 : 10946\n",
            "22 : 17711\n",
            "23 : 28657\n",
            "24 : 46368\n",
            "25 : 75025\n",
            "26 : 121393\n",
            "27 : 196418\n",
            "28 : 317811\n",
            "29 : 514229\n",
            "30 : 832040\n",
            "31 : 1346269\n",
            "32 : 2178309\n",
            "33 : 3524578\n",
            "34 : 5702887\n",
            "35 : 9227465\n",
            "36 : 14930352\n",
            "37 : 24157817\n",
            "38 : 39088169\n",
            "39 : 63245986\n",
            "40 : 102334155\n"
          ]
        }
      ]
    },
    {
      "cell_type": "markdown",
      "source": [
        "재귀는 1분22초 걸렸습니다.  다만 반복은 0초로 시간차이는 1분 22초 납니다\n"
      ],
      "metadata": {
        "id": "im5oGFYYmrLA"
      }
    },
    {
      "cell_type": "markdown",
      "source": [
        "숙제 3"
      ],
      "metadata": {
        "id": "Iakw28xTnx0K"
      }
    },
    {
      "cell_type": "code",
      "source": [
        "def move(n,a,b,c): #본책 36페이지 코드\n",
        "  if (n>0):\n",
        "    move(n-1,a,c,b)\n",
        "    move(n-1,c,b,a) \n",
        "\n",
        "def count(n): #count(n) = count(n-1) + 1 + count(n-1) \n",
        "  if n > 1:\n",
        "    return 2*count(n-1)+1\n",
        "  else: # n=1일때는 하나의 원판이라 1번\n",
        "    return 1\n",
        "\n",
        "n=7\n",
        "print(count(n)) #옮긴 횟수"
      ],
      "metadata": {
        "colab": {
          "base_uri": "https://localhost:8080/"
        },
        "id": "qj9o7aOPq5_X",
        "outputId": "1b7d7f43-e357-407a-dae9-d72812c18c71"
      },
      "execution_count": 71,
      "outputs": [
        {
          "output_type": "stream",
          "name": "stdout",
          "text": [
            "127\n"
          ]
        }
      ]
    },
    {
      "cell_type": "markdown",
      "source": [
        "숙제4\n"
      ],
      "metadata": {
        "id": "c2kzIpSkvTT7"
      }
    },
    {
      "cell_type": "code",
      "source": [
        "def sample(A, n):\n",
        "  A =[]\n",
        "  sum = 0\n",
        "  for i in range(0,n-1):\n",
        "    for j in range(i, n-1):\n",
        "      sum = sum + A[i]*A[j]\n",
        "  return sum\n"
      ],
      "metadata": {
        "id": "kSGCJC8-wio8"
      },
      "execution_count": 75,
      "outputs": []
    },
    {
      "cell_type": "markdown",
      "source": [
        "예시를 코드로 표현을해보려고 했으나 저게 맞는건지 모르겠습니다.\n",
        "\n",
        "저 코드를 예시로 sum의 증가식은 \n",
        "f(n) = x^2 + sum\n",
        "으로 \n",
        "빅오 표기법으로 O(n^2) 즉 2차형 으로 됩니다\n",
        "\n"
      ],
      "metadata": {
        "id": "ZMQlkUcqwbnv"
      }
    }
  ]
}