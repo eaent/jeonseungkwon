{
  "nbformat": 4,
  "nbformat_minor": 0,
  "metadata": {
    "colab": {
      "provenance": [],
      "collapsed_sections": [],
      "include_colab_link": true
    },
    "kernelspec": {
      "name": "python3",
      "display_name": "Python 3"
    },
    "language_info": {
      "name": "python"
    }
  },
  "cells": [
    {
      "cell_type": "markdown",
      "metadata": {
        "id": "view-in-github",
        "colab_type": "text"
      },
      "source": [
        "<a href=\"https://colab.research.google.com/github/eaent/jeonseungkwon/blob/master/hw2_b777029_Jsk.ipynb\" target=\"_parent\"><img src=\"https://colab.research.google.com/assets/colab-badge.svg\" alt=\"Open In Colab\"/></a>"
      ]
    },
    {
      "cell_type": "code",
      "execution_count": null,
      "metadata": {
        "id": "V7SQGeG0ezh0"
      },
      "outputs": [],
      "source": [
        "class ListNode:\n",
        "\tdef __init__(self, newItem, nextNode:'ListNode'):\n",
        "\t\tself.item = newItem    # 인스턴스 객체의 item 값을 인자로 전해진 newItem 값으로 대치\n",
        "\t\tself.next = nextNode   # 인스턴스 객체의 next 값을 인자로 전해진 nextNode 값으로 대치\n",
        "\n",
        "class LinkedListBasic:\n",
        "\tdef __init__(self):      \n",
        "\t\tself.__head = ListNode('dummy', None)  # 더미 헤드 노드를 생성한 후, __head 가 더미 헤드 노드를 레퍼런스 함\n",
        "\t\tself.__numItems = 0   \t\t\t\t\t\t\t\t # 새로 생성되었으므로 노드의 개수는 0\n",
        "\n",
        "\t# [알고리즘 5 - 2] 구현: 연결 리스트에 원소 삽입하기(더미 헤드를 두는 대표 버전)\n",
        "\tdef insert(self, i:int, newItem):\n",
        "\t\tif i >= 0 and i <= self.__numItems:  \t# 인덱스 i의 유효성 검사\n",
        "\t\t\tprev = self.__getNode(i - 1)\n",
        "\t\t\tnewNode = ListNode(newItem, prev.next)   # 새 노드를 생성하고, 생성된 노드를 리스트에 연결\n",
        "\t\t\tprev.next = newNode   \t\t\t\t\t\t\t\t\t # 리스트의 이전 연결을 끊고, 새 노드를 연결\n",
        "\t\t\tself.__numItems += 1  \t\t\t\t\t\t\t\t\t # 리스트의 노드 개수 1 증가\n",
        "\t\telse:   \t\t\t\t\t\t\t\t\t\t\t\t\t\t  # 인덱스 i가 유효하지 않은 경우 \n",
        "\t\t\tprint(\"index\", i, \": out of bound in insert()\") # 필요 시 에러 처리\n",
        " \n",
        "\tdef append(self, newItem):\n",
        "\t\tprev = self.__getNode(self.__numItems - 1)    # prev가 연결 리스트의 마지막 노드를 레퍼런스\n",
        "\t\tnewNode = ListNode(newItem, prev.next)        # 새 노드를 생성하고, 생성된 노드를 기존 리스트에 연결\n",
        "\t\tprev.next = newNode                           # 기존 리스트에 새 노드를 연결\n",
        "\t\tself.__numItems += 1                          # 리스트의 노드 개수 1 증가\n",
        "\n",
        "\t# [알고리즘 5-3] 구현: 연결 리스트의 원소 삭제하기\n",
        "\tdef pop(self, i:int):   # i번 노드 삭제. 고정 파라미터\n",
        "\t\tif (i >= 0 and i <= self.__numItems-1):    # 인덱스 i가 유효하다면\n",
        "\t\t\tprev = self.__getNode(i - 1) \t\t\t\t\t\t # prev가 삭제할 노드의 이전 노드를 레퍼런스함\n",
        "\t\t\tcurr = prev.next                         # 삭제할 노드\n",
        "\t\t\tprev.next = curr.next\t\t\t\t\t\t\t\t\t\t # prev.next = prev.next.next (삭제가 이루어짐)\n",
        "\t\t\tretItem = curr.item\t\t\t\t\t\t\t\t\t\t\t # 삭제한 노드의 item 값 저장\n",
        "\t\t\tself.__numItems -= 1                     # 리스트의 전체 노드 개수를 1 감소\n",
        "\t\t\treturn retItem                           # 삭제한 노드의 item 값 반환\n",
        "\t\telse:                                      # 인덱스 i가 유효하지 않다면\n",
        "\t\t\treturn None\n",
        "\t\n",
        "\t# [알고리즘 5 -4] 구현: 연결 리스트의 원소 x 삭제하기 (더미 헤드를 두는 대표 버전)\n",
        "\tdef remove(self, x):\n",
        "\t\t(prev, curr) = self.__findNode(x)   # x의 값을 찾았다면 prev, curr는 None이 아님\n",
        "\t\tif curr != None:                    # x의 값을 찾았음. 즉, curr: 삭제할 노드; prev: 삭제할 노드의 이전 노드\n",
        "\t\t\tprev.next = curr.next\t\t\t\t\t\t  # prev.next = prev.next.next (삭제 알고리즘)\n",
        "\t\t\tself.__numItems -= 1              # 리스트의 전체 노드 개수 1 감소\n",
        "\t\t\treturn x\n",
        "\t\telse:\t\t\t\t\t\t\t\t\t\t\t\t\t\t\t\t# 삭제할 노드가 없다면\n",
        "\t\t\treturn None\n",
        "\n",
        "\t# [알고리즘 5 - 5] 구현: 연결 리스트의 i번 원소 알려주기\n",
        "\tdef get(self, i:int):\n",
        "\t\tif self.isEmpty():\n",
        "\t\t\treturn None\n",
        "\t\tif (i >= 0 and i <= self.__numItems - 1):   # 인덱스 i가 유효한 값이라면\n",
        "\t\t\treturn self.__getNode(i).item             # 노드 i의 item 값을 반환\n",
        "\t\telse:\t\t\t\t\t\t\t\t\t\t\t\t\t\t\t\t\t\t\t\t# 인덱스 i가 유효하지 않다면\n",
        "\t\t\treturn None\n",
        " \n",
        "\t# [알고리즘 5 -7] 구현: x가 연결 리스트의 몇 번 원소인지 알려주기\n",
        "\tdef index(self, x) -> int:\n",
        "\t\tcurr = self.__head.next\t # 0번 노드:  더미 헤드 다음 노드 (즉, 첫번째 노드)\n",
        "\t\tfor index in range(self.__numItems):   # index: 0 ~ numItems-1\n",
        "\t\t\tif curr.item == x:\t\t\t\t\t\t\t\t\t # curr가 가리키는 노드의 item 값이 x 라면\n",
        "\t\t\t\treturn index                       # 해당하는 인덱스 반환\n",
        "\t\t\telse:                                # x가 아니면 다음 노드 검사\n",
        "\t\t\t\tcurr = curr.next                   # curr가 다음 노드를 레퍼런스 함\n",
        "\t\treturn -2 # 안 쓰는 인덱스\n",
        "\n",
        "\t# [알고리즘 5 -8] 구현: 기타 작업들\n",
        "\tdef isEmpty(self) -> bool:\n",
        "\t\treturn self.__numItems == 0    # 리스트의 노드 개수 == 0 이면 True 반환\n",
        "\n",
        "\tdef size(self) -> int:            \n",
        "\t\treturn self.__numItems\t\t\t\t # 리스트의 노드 개수 반환\n",
        "\n",
        "\tdef clear(self):   \t\t\t\t\t\t\t\t\t\t\t\t# 연결 리스트의 모든 노드를 삭제\n",
        "\t\tself.__head = ListNode(\"dummy\", None)   # 새로운 더미 헤드 노드를 생성\n",
        "\t\tself.__numItems = 0                     # 리스트의 노드 개수를 0으로 치환\n",
        "\n",
        "\tdef count(self, x) -> int:\t\t\t\t\t\t\t\t# 리스트 내의 x 값이 몇 개 있는지를 반환\n",
        "\t\tcnt = 0\n",
        "\t\tcurr = self.__head.next  # 0번 노드 (즉, 첫번째 노드)\n",
        "\t\twhile curr != None:\n",
        "\t\t\tif curr.item == x:\t\t # curr가 레퍼런스하는 노드의 item값이 x와 같다면\n",
        "\t\t\t\t\tcnt += 1           # cnt 값 1 증가\n",
        "\t\t\tcurr = curr.next       # curr가 다음 노드를 레퍼런스하게 함\n",
        "\t\treturn cnt\n",
        "\n",
        "\tdef extend(self, a): # 여기서 a는 self와 같은 타입의 연결 리스트\n",
        "\t\tfor index in range(a.size()):   # index: 0 ~ numItems-1\n",
        "\t\t\tself.append(a.get(index))\n",
        " \n",
        "\tdef copy(self):\n",
        "\t\ta = LinkedListBasic()\n",
        "\t\tfor index in range(self.__numItems):\n",
        "\t\t\ta.append(self.get(index))\n",
        "\t\treturn a\n",
        "\n",
        "\tdef reverse(self):\n",
        "\t\ta = LinkedListBasic()\n",
        "\t\tfor index in range(self.__numItems):\n",
        "\t\t\ta.insert(0, self.get(index))\n",
        "\t\tself.clear()\n",
        "\t\tfor index in range(a.size()):\n",
        "\t\t\tself.append(a.get(index))\n",
        "\n",
        "\tdef sort(self) -> None:\n",
        "\t\ta = []\n",
        "\t\tfor index in range(self.__numItems):\n",
        "\t\t\ta.append(self.get(index))\n",
        "\t\ta.sort()\n",
        "\t\tself.clear()\n",
        "\t\tfor index in range(len(a)):\n",
        "\t\t\tself.append(a[index])\n",
        " \n",
        "\tdef __findNode(self, x) -> (ListNode, ListNode):\n",
        "\t\tprev = self.__head  \t# 더미 헤드\n",
        "\t\tcurr = prev.next    \t# 0번 노드 (즉, 첫번째 노드)\n",
        "\t\twhile curr != None: \t# 만약 curr이 None이 아니라면 (즉, 노드가 존재한다면)\n",
        "\t\t\tif curr.item == x:  # 노드의 item 값이 x와 같다면\n",
        "\t\t\t\treturn (prev, curr)  # prev와 curr가 레퍼런스하는 값을 반환\n",
        "\t\t\telse:\t\t\t\t\t\t\t\t# item 값이 x가 아니라면\n",
        "\t\t\t\tprev = curr; curr = curr.next\n",
        "\t\treturn (None, None)\n",
        "\n",
        "\t# [알고리즘 5-6] 구현: 연결 리스트의 i번 노드 알려주기\n",
        "\tdef __getNode(self, i:int) -> ListNode:\n",
        "\t\tcurr = self.__head # 더미 헤드 (index: -1)\n",
        "\t\tfor index in range(i+1):   # index: 0 ~ i\n",
        "\t\t\tcurr = curr.next       # curr가 다음 노드를 레퍼런스하게 함\n",
        "\t\treturn curr              # curr 값 (index i에 해당하는 노드 주소)을 반환\n",
        "\n",
        "\tdef printList(self):\n",
        "\t\tcurr = self.__head.next # 0번 노드: 더미 헤드 다음 노드 (즉, 첫번째 노드)\n",
        "\t\twhile curr != None:\n",
        "\t\t\tprint(curr.item, end=\" \")\n",
        "\t\t\tcurr = curr.next\n",
        "\t\tprint()\n",
        "\n",
        "\t# item x 가 리스트 내에 존재하는지 여부를 검사: index() 메서드 호출해서 이용\n",
        "\t# hw2 B777029 전승권\n",
        "\n",
        "\tdef contains(self, x) -> bool:\n",
        "\t\tif self.index(x) == -2 :\n",
        "\t\t\treturn False\n",
        "\t\telse :\n",
        "\t\t\treturn True\n",
        "\n",
        "\tdef printInterval(self, i:int, j:int):\n",
        "\t\tif i > j:\t\t\n",
        "\t\t\tprint(\"Start index should be less than or equal to End index\")\n",
        "\t\t\treturn\t\t\t\n",
        "\t\tcurr = self.__head.next\n",
        "\t\tresult = LinkedListBasic()\n",
        "\t\tcount = 0\n",
        "\t\twhile curr != None:\n",
        "\t\t\tif count >= i and count <= j:\n",
        "\t\t\t\tresult.append(curr.item)\t\t\n",
        "\t\t\tcount+=1\n",
        "\t\t\tcurr = curr.next\n",
        "\t\tif count < j:\n",
        "\t\t\tprint(\"out of range\")\n",
        "\t\t\treturn\n",
        "\t\tresult.printList()\n",
        "\t\tprint()\n",
        "\t\n",
        "\tdef pop2(self, i:int, k:int):\n",
        "\t\tif (i >= 0 and i <= self.__numItems-1):   \n",
        "\t\t\tfor j in range(k):\n",
        "\t\t\t\tprev = self.__getNode(i - 1) \t\t\t\t\t\t \n",
        "\t\t\t\tcurr = prev.next                         \n",
        "\t\t\t\tprev.next = curr.next\t\t\t\t\t\t\t\t\t\t \n",
        "\t\t\t\tretItem = curr.item\t\t\t\t\t\t\t\t\t\t\t \n",
        "\t\t\t\tself.__numItems -= 1\n",
        "\t\t\t\tif prev.next == None :\n",
        "\t\t\t\t\tbreak\t                   \n",
        "\t\t\treturn retItem                           \n",
        "\t\telse:                                      \n",
        "\t\t\treturn None\t\n",
        "\n",
        "\tdef numItems(self) -> int:\n",
        "\t\tcount = 0\n",
        "\t\tcurr = self.__head.next\n",
        "\t\twhile curr != None:\n",
        "\t\t\tcount += 1\n",
        "\t\t\tcurr = curr.next\n",
        "\t\treturn count\n",
        "\t\t"
      ]
    },
    {
      "cell_type": "code",
      "source": [
        "mylist = LinkedListBasic()    # 빈 연결 리스트 객체 생성\n",
        "print(mylist.size())          # 빈 연결 리스트의 크기 == 0\n",
        "print(mylist.isEmpty())       # True를 반환\n",
        "mylist.append(1)              # 리스트의 맨 뒤에 노드 (item 값이 1) 추가\n",
        "mylist.append(2)              # 리스트의 맨 뒤에 노드 (item 값이 2) 추가\n",
        "mylist.insert(1, 10)          # 리스트의 1번 인덱스 (즉, 두번째 원소 위치)에 노드 (item 값이 10) 추가\n",
        "print(mylist.size())          # 리스트의 노드 개수 == 3\n",
        "print(mylist.isEmpty())       # False를 반환\n",
        "print(mylist.printList())\n",
        "print(mylist.pop(1))\n",
        "print(mylist.printList())"
      ],
      "metadata": {
        "colab": {
          "base_uri": "https://localhost:8080/"
        },
        "id": "BfxY9z5M4kIZ",
        "outputId": "5441176e-624b-4b58-82e2-c50b2f18dd35"
      },
      "execution_count": null,
      "outputs": [
        {
          "output_type": "stream",
          "name": "stdout",
          "text": [
            "0\n",
            "True\n",
            "3\n",
            "False\n",
            "1 10 2 None\n",
            "10\n",
            "1 2 None\n"
          ]
        }
      ]
    },
    {
      "cell_type": "code",
      "source": [
        "st1 = LinkedListBasic()\n",
        "st1.append(3)\n",
        "st1.append(5)\n",
        "st1.append(1)\n",
        "st1.printInterval(0,2)\n",
        "st1.printInterval(1,2)\n",
        "st1.printInterval(0,5)\n",
        "st1.printInterval(2,1)\n",
        "st1.printInterval(2,2)"
      ],
      "metadata": {
        "id": "RL7V2tqR5B8c",
        "colab": {
          "base_uri": "https://localhost:8080/"
        },
        "outputId": "b38c0e3c-3a5e-41c3-830b-d487b99c666b"
      },
      "execution_count": null,
      "outputs": [
        {
          "output_type": "stream",
          "name": "stdout",
          "text": [
            "3 5 1 \n",
            "5 1 \n",
            "out of range\n",
            "Start index should be less than or equal to End index\n",
            "1 \n"
          ]
        }
      ]
    },
    {
      "cell_type": "code",
      "source": [
        "st1 = LinkedListBasic()\n",
        "st1.append(5)\n",
        "st1.append(1)\n",
        "st1.append(2)\n",
        "st1.append(4)\n",
        "st1.printList()\n",
        "print(st1.pop2(0,1))\n",
        "st1.printList()\n",
        "print(st1.pop2(1,2))\n",
        "st1.append(2)\n",
        "st1.append(4)\n",
        "st1.append(5)\n",
        "st1.printList()\n",
        "print(st1.pop2(2,5))\n",
        "st1.printList()"
      ],
      "metadata": {
        "colab": {
          "base_uri": "https://localhost:8080/"
        },
        "id": "bWtLqVrFPXRY",
        "outputId": "2a316e37-91fd-46a8-defb-199c836b0d0f"
      },
      "execution_count": null,
      "outputs": [
        {
          "output_type": "stream",
          "name": "stdout",
          "text": [
            "5 1 2 4 \n",
            "5\n",
            "1 2 4 \n",
            "4\n",
            "1 2 4 5 \n",
            "5\n",
            "1 2 \n"
          ]
        }
      ]
    },
    {
      "cell_type": "code",
      "source": [
        "st1 = LinkedListBasic()\n",
        "print(st1.numItems())\n",
        "st1.append(3)\n",
        "st1.append(5)\n",
        "st1.append(1)\n",
        "print(st1.numItems())"
      ],
      "metadata": {
        "colab": {
          "base_uri": "https://localhost:8080/"
        },
        "id": "mjAbvcsRZoMY",
        "outputId": "69f64157-a5c9-48cb-faf2-e4e53710fcd3"
      },
      "execution_count": null,
      "outputs": [
        {
          "output_type": "stream",
          "name": "stdout",
          "text": [
            "0\n",
            "3\n"
          ]
        }
      ]
    }
  ]
}