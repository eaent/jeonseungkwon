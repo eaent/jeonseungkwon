{
  "nbformat": 4,
  "nbformat_minor": 0,
  "metadata": {
    "colab": {
      "provenance": [],
      "authorship_tag": "ABX9TyOPRBFRYyq26kkOraakmngX",
      "include_colab_link": true
    },
    "kernelspec": {
      "name": "python3",
      "display_name": "Python 3"
    },
    "language_info": {
      "name": "python"
    }
  },
  "cells": [
    {
      "cell_type": "markdown",
      "metadata": {
        "id": "view-in-github",
        "colab_type": "text"
      },
      "source": [
        "<a href=\"https://colab.research.google.com/github/eaent/jeonseungkwon/blob/master/9_25_gameprototype_work.ipynb\" target=\"_parent\"><img src=\"https://colab.research.google.com/assets/colab-badge.svg\" alt=\"Open In Colab\"/></a>"
      ]
    },
    {
      "cell_type": "markdown",
      "source": [
        "9/19 1학년 게임프로토타입 수업"
      ],
      "metadata": {
        "id": "EmkqC5s5R3-h"
      }
    },
    {
      "cell_type": "code",
      "execution_count": null,
      "metadata": {
        "colab": {
          "base_uri": "https://localhost:8080/"
        },
        "id": "C-T7jOWtKIir",
        "outputId": "2c3eef32-0aad-4914-8a37-b5eda324cafc"
      },
      "outputs": [
        {
          "output_type": "stream",
          "name": "stdout",
          "text": [
            "Enter an integer : 3\n",
            "Enter another interger : 5\n",
            "3 + 5 = 8 \n"
          ]
        }
      ],
      "source": [
        "c = 0\n",
        "a = int(input(\"Enter an integer : \")) #자료형 변수 선언을 안할시 str방식으로 받으므로 str으로 받을시 append 로 뒤에 추가가된다 그러므로 정수형변수로 받음\n",
        "b = int(input(\"Enter another interger : \"))\n",
        "c = c + (a + b)\n",
        "print(\"{} + {} = {} \".format(a, b, c)) #format메서드를 이용하여 빈칸에 정수형 리스트 입력 "
      ]
    },
    {
      "cell_type": "code",
      "source": [],
      "metadata": {
        "id": "20vkCnRvZg7Z"
      },
      "execution_count": null,
      "outputs": []
    },
    {
      "cell_type": "markdown",
      "source": [
        "연습 문제 # 2\n"
      ],
      "metadata": {
        "id": "OgC96G2PZhHF"
      }
    },
    {
      "cell_type": "code",
      "source": [
        "d = str(input(\"Enter you quote : \")) #d 변수에 스트링 자료형 저장\n",
        "print(\"My quote is '{}'\".format(d))"
      ],
      "metadata": {
        "colab": {
          "base_uri": "https://localhost:8080/"
        },
        "id": "EAw5S315WE8n",
        "outputId": "f702a741-3dde-4c24-aae9-35b20cf66cfe"
      },
      "execution_count": null,
      "outputs": [
        {
          "output_type": "stream",
          "name": "stdout",
          "text": [
            "Enter you quote : Life is short\n",
            "My quote is 'Life is short'\n"
          ]
        }
      ]
    },
    {
      "cell_type": "markdown",
      "source": [
        "연습 문제 #3\n"
      ],
      "metadata": {
        "id": "k91IbkMPwWm3"
      }
    },
    {
      "cell_type": "markdown",
      "source": [
        "3-1\n"
      ],
      "metadata": {
        "id": "Yd-lnAOZxkfa"
      }
    },
    {
      "cell_type": "code",
      "source": [
        "name = \"Jeon\"\n",
        "print(\"Hey {} , would you like some coffee?\".format(name))"
      ],
      "metadata": {
        "colab": {
          "base_uri": "https://localhost:8080/"
        },
        "id": "q2exeA6HxOrU",
        "outputId": "0a54f7d6-1578-4855-b37a-110019a95873"
      },
      "execution_count": null,
      "outputs": [
        {
          "output_type": "stream",
          "name": "stdout",
          "text": [
            "Hey Jeon , would you like some coffee?\n"
          ]
        }
      ]
    },
    {
      "cell_type": "markdown",
      "source": [
        "3-2\n"
      ],
      "metadata": {
        "id": "w2qjAs0gxNaH"
      }
    },
    {
      "cell_type": "code",
      "source": [
        "txt = \"Jeon Seung Kwon\"\n",
        "print(\"{}\\n{}\\n{}\".format(txt.capitalize(),txt.upper(),txt.lower())) #첫번째 문자만 대문자,싹다 대문자,싹다 소문자"
      ],
      "metadata": {
        "id": "UlNOpiu9budm",
        "colab": {
          "base_uri": "https://localhost:8080/"
        },
        "outputId": "664b9165-4649-4e2a-b248-b48df9962777"
      },
      "execution_count": null,
      "outputs": [
        {
          "output_type": "stream",
          "name": "stdout",
          "text": [
            "Jeon seung kwon\n",
            "JEON SEUNG KWON\n",
            "jeon seung kwon\n"
          ]
        }
      ]
    },
    {
      "cell_type": "markdown",
      "source": [
        "3-3"
      ],
      "metadata": {
        "id": "5dllQrAA0mK3"
      }
    },
    {
      "cell_type": "code",
      "source": [
        "famous_person = \"Steve Jobs\"\n",
        "message = '\"I’m as proud of we don’t do as I am of what we do.\"'\n",
        "print(\"{} once said {} \".format(famous_person.capitalize(),message))"
      ],
      "metadata": {
        "colab": {
          "base_uri": "https://localhost:8080/"
        },
        "id": "tEiTHP_O0pJD",
        "outputId": "3a648dfe-d5ae-474d-9580-7f5682235c42"
      },
      "execution_count": 10,
      "outputs": [
        {
          "output_type": "stream",
          "name": "stdout",
          "text": [
            "Steve jobs once said \"I’m as proud of we don’t do as I am of what we do.\" \n"
          ]
        }
      ]
    },
    {
      "cell_type": "markdown",
      "source": [
        "4"
      ],
      "metadata": {
        "id": "Cycl-kTwFosb"
      }
    },
    {
      "cell_type": "code",
      "source": [
        "import this\n",
        "\n",
        "message = \"Sparse is better than dense.\"\n",
        "print(f'{message}') #빽빽한 것보다는 희박한 것이 낫다."
      ],
      "metadata": {
        "colab": {
          "base_uri": "https://localhost:8080/"
        },
        "id": "pSwdOYQxFHgt",
        "outputId": "5be20360-0a23-4f44-e6be-2ed3e8799357"
      },
      "execution_count": 13,
      "outputs": [
        {
          "output_type": "stream",
          "name": "stdout",
          "text": [
            "Sparse is better than dense.\n"
          ]
        }
      ]
    },
    {
      "cell_type": "markdown",
      "source": [
        "5"
      ],
      "metadata": {
        "id": "Z5kQiQLVFsNV"
      }
    },
    {
      "cell_type": "code",
      "source": [
        "my_favorites = list() #리스트 생성\n",
        "my_favorites.insert(0,7)\n",
        "my_favorites.insert(1,'blue')\n",
        "my_favorites.insert(2,'Sang Hyuck')\n",
        "meesage = \"My favorite \"\n",
        "print(\"{} number is {}.\".format(meesage,my_favorites[0]))\n",
        "print(\"{} color is {}.\".format(meesage,my_favorites[1]))\n",
        "print(\"{} person/persons is/are {}.\".format(meesage,my_favorites[2]))"
      ],
      "metadata": {
        "colab": {
          "base_uri": "https://localhost:8080/"
        },
        "id": "MKNXkFl1Fsn6",
        "outputId": "83da1f81-f1a6-4661-d493-2c275c35f2ce"
      },
      "execution_count": 24,
      "outputs": [
        {
          "output_type": "stream",
          "name": "stdout",
          "text": [
            "My favorite  number is 7.\n",
            "My favorite  color is blue.\n",
            "My favorite  person/persons is/are Sang Hyuck.\n"
          ]
        }
      ]
    },
    {
      "cell_type": "markdown",
      "source": [
        "6"
      ],
      "metadata": {
        "id": "aud92bh-JNqJ"
      }
    },
    {
      "cell_type": "code",
      "source": [
        "party = list() #리스트 생성\n",
        "party = ['Seung Kwon','Suk Hyoun','Hyo Chang']\n",
        "print(party)\n",
        "party.insert(0,'Sang Hyuck')\n",
        "print(party)\n",
        "party. append('Pyo Sick')\n",
        "print(party)\n",
        "count = len(party)\n",
        "for i in range(count-2):\n",
        "  party.pop()\n",
        "  print(party)\n",
        "del party[0]\n",
        "print(party)\n",
        "del party[0]\n",
        "print(party)\n",
        "count = len(party)\n",
        "print(\"{}\".format(count))"
      ],
      "metadata": {
        "colab": {
          "base_uri": "https://localhost:8080/"
        },
        "id": "FXbzf_qsJQAU",
        "outputId": "84e8a30e-07eb-4799-8c5d-009bbe0c938b"
      },
      "execution_count": 36,
      "outputs": [
        {
          "output_type": "stream",
          "name": "stdout",
          "text": [
            "['Seung Kwon', 'Suk Hyoun', 'Hyo Chang']\n",
            "['Sang Hyuck', 'Seung Kwon', 'Suk Hyoun', 'Hyo Chang']\n",
            "['Sang Hyuck', 'Seung Kwon', 'Suk Hyoun', 'Hyo Chang', 'Pyo Sick']\n",
            "['Sang Hyuck', 'Seung Kwon', 'Suk Hyoun', 'Hyo Chang']\n",
            "['Sang Hyuck', 'Seung Kwon', 'Suk Hyoun']\n",
            "['Sang Hyuck', 'Seung Kwon']\n",
            "['Seung Kwon']\n",
            "[]\n",
            "0\n"
          ]
        }
      ]
    }
  ]
}